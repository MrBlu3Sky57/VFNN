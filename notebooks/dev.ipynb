{
 "cells": [
  {
   "cell_type": "code",
   "execution_count": 1,
   "id": "7c4eb13c",
   "metadata": {},
   "outputs": [],
   "source": [
    "import torch\n",
    "import torch.nn as nn"
   ]
  },
  {
   "cell_type": "code",
   "execution_count": 2,
   "id": "5940ed44",
   "metadata": {},
   "outputs": [],
   "source": [
    "words = open('../data/names.txt', 'r').read().splitlines()"
   ]
  },
  {
   "cell_type": "code",
   "execution_count": 3,
   "id": "074f2c93",
   "metadata": {},
   "outputs": [],
   "source": [
    "chars = sorted(list(set(''.join(words))))\n",
    "stoi = {s:i+1 for i,s in enumerate(chars)}\n",
    "stoi['.'] = 0\n",
    "itos = {i:s for s,i in stoi.items()}"
   ]
  },
  {
   "cell_type": "code",
   "execution_count": 4,
   "id": "321ca5b0",
   "metadata": {},
   "outputs": [],
   "source": [
    "# Build the dataset\n",
    "\n",
    "block_size = 6 # Context Length: How many characters do we take to predict the next one?\n",
    "X,Y = [], []\n",
    "\n",
    "for w in words:\n",
    "\n",
    "    context = [0] * block_size\n",
    "    for ch in w + '.':\n",
    "        ix = stoi[ch]\n",
    "        X.append(context)\n",
    "        Y.append(ix)\n",
    "        context = context[1:] + [ix] # Crop and Append\n",
    "\n",
    "xs = torch.tensor(X)\n",
    "targets = torch.tensor(Y)\n",
    "num = len(Y)"
   ]
  },
  {
   "cell_type": "code",
   "execution_count": 5,
   "id": "3d44d31b",
   "metadata": {},
   "outputs": [],
   "source": [
    "# Split data\n",
    "num_samples = xs.shape[0]\n",
    "\n",
    "# 70/15/15 split (or 80/10/10)\n",
    "train_end = int(0.7 * num_samples)\n",
    "val_end = int(0.85 * num_samples)\n",
    "\n",
    "# DO NOT SHUFFLE YET\n",
    "xs_train = xs[:train_end]\n",
    "ys_train = targets[:train_end]\n",
    "\n",
    "xs_val = xs[train_end:val_end]\n",
    "ys_val = targets[train_end:val_end]\n",
    "\n",
    "xs_test = xs[val_end:]\n",
    "ys_test = targets[val_end:]\n",
    "\n",
    "perm = torch.randperm(xs_train.shape[0])\n",
    "xs_train = xs_train[perm]\n",
    "ys_train = ys_train[perm]"
   ]
  },
  {
   "cell_type": "code",
   "execution_count": 6,
   "id": "fcc90e2b",
   "metadata": {},
   "outputs": [],
   "source": [
    "class Gate(nn.Module):\n",
    "    def __init__(self, in_size, hidden_size):\n",
    "        super().__init__()\n",
    "        self.in_weight = nn.Parameter(torch.randn((in_size, hidden_size), requires_grad=True) / torch.sqrt(torch.tensor(in_size)))\n",
    "        self.hidden_weight = nn.Parameter(torch.randn((hidden_size, hidden_size), requires_grad=True) / torch.sqrt(torch.tensor(hidden_size)))\n",
    "        self.bias = nn.Parameter(torch.zeros((hidden_size,), requires_grad=True))\n",
    "        self.act = torch.sigmoid\n",
    "        \n",
    "    def forward(self, x_inp, hidden_inp):\n",
    "        unact = hidden_inp @ self.hidden_weight + x_inp @ self.in_weight + self.bias\n",
    "        return self.act(unact)"
   ]
  },
  {
   "cell_type": "code",
   "execution_count": 7,
   "id": "be7fbb44",
   "metadata": {},
   "outputs": [],
   "source": [
    "\n",
    "class Cell(nn.Module):\n",
    "    def __init__(self, in_size, hidden_size):\n",
    "        super().__init__()\n",
    "        self.forget_gate = Gate(in_size, hidden_size)\n",
    "        self.input_gate = Gate(in_size, hidden_size)\n",
    "        self.out_gate = Gate(in_size, hidden_size)\n",
    "        self.inp_weight = nn.Parameter(torch.randn((in_size, hidden_size), requires_grad=True) / torch.sqrt(torch.tensor(in_size)))\n",
    "        self.hidden_weight = nn.Parameter(torch.randn((hidden_size, hidden_size), requires_grad=True) / torch.sqrt(torch.tensor(hidden_size)))\n",
    "        self.bias = nn.Parameter(torch.zeros((hidden_size,), requires_grad=True))\n",
    "    \n",
    "    def forward(self, x_inp, hidden_inp, memory_inp):\n",
    "        forget_gate = self.forget_gate(x_inp, hidden_inp)\n",
    "        input_gate = self.input_gate(x_inp, hidden_inp)\n",
    "        out_gate = self.out_gate(x_inp, hidden_inp)\n",
    "\n",
    "\n",
    "        candidate_mem = torch.tanh(hidden_inp @ self.hidden_weight + x_inp @ self.inp_weight + self.bias)\n",
    "        new_mem = forget_gate * memory_inp + input_gate * candidate_mem\n",
    "        new_output = out_gate * torch.tanh(new_mem)\n",
    "        return (new_output, new_mem)"
   ]
  },
  {
   "cell_type": "code",
   "execution_count": 8,
   "id": "b8b03435",
   "metadata": {},
   "outputs": [],
   "source": [
    "# Feature dim is always last dim\n",
    "class BatchNorm1D(nn.Module):\n",
    "    def __init__(self, num_features, _momentum=0.9):\n",
    "        super().__init__()\n",
    "        self.running_mu = torch.ones((num_features,))\n",
    "        self.running_var = torch.zeros((num_features,))\n",
    "        self.gamma = nn.Parameter(torch.ones((num_features,), requires_grad=True))\n",
    "        self.beta = nn.Parameter(torch.zeros((num_features,), requires_grad=True))\n",
    "        self.momentum = _momentum\n",
    "    \n",
    "    def forward(self, inp: torch.Tensor):\n",
    "        ndims = inp.ndim - 1\n",
    "        c = self.running_mu.shape[0]\n",
    "        if self.training:\n",
    "            shape = tuple(range(0, ndims))\n",
    "            mu = torch.mean(inp, dim=shape, keepdim=True)\n",
    "            var = torch.var(inp, dim=shape, keepdim=True, correction=0.0)\n",
    "        else:\n",
    "            mu = self.running_mu.view(*([1] * ndims), c)\n",
    "            var = self.running_var.view(*([1] * ndims), c)\n",
    "        \n",
    "        gamma = self.gamma.view(*([1] * ndims), c)\n",
    "        beta = self.beta.view(*([1] * ndims), c)\n",
    "\n",
    "        # Normalize then reparametrize\n",
    "        x_hat = (inp - mu) / torch.sqrt(var + 1e-12)\n",
    "        x_new = gamma * x_hat + beta\n",
    "\n",
    "        # Update running average -- if training\n",
    "        if self.training:\n",
    "            self.running_mu = self.momentum * self.running_mu + (1 - self.momentum) * mu.squeeze()\n",
    "            self.running_var = self.momentum * self.running_var + (1 - self.momentum) * var.squeeze()\n",
    "        \n",
    "        return x_new"
   ]
  },
  {
   "cell_type": "code",
   "execution_count": 9,
   "id": "311e563f",
   "metadata": {},
   "outputs": [],
   "source": [
    "class LSTM(nn.Module):\n",
    "    def __init__(self, in_size, hidden_size, training=True):\n",
    "        super().__init__()\n",
    "        self.cell = Cell(in_size, hidden_size)\n",
    "        if self.training: # Batch mode\n",
    "            self.initial_hidden = torch.zeros((1, hidden_size))\n",
    "            self.initial_mem = torch.zeros((1, hidden_size))\n",
    "        else:\n",
    "            self.initial_hidden = torch.zeros(hidden_size)\n",
    "            self.initial_mem = torch.zeros(hidden_size)\n",
    "        \n",
    "        self.in_batchnorm = BatchNorm1D(in_size)\n",
    "        self.hidden_batchnorm = BatchNorm1D(hidden_size)\n",
    "        self.training = training\n",
    "    \n",
    "    def forward(self, inp: torch.Tensor):\n",
    "        hidden = self.initial_hidden\n",
    "        mem = self.initial_mem\n",
    "        if inp.ndim == 2:\n",
    "            channels = inp.shape[0]\n",
    "        elif inp.ndim == 3:\n",
    "            channels = inp.shape[1]\n",
    "        else:\n",
    "            raise ValueError\n",
    "        \n",
    "        for t in range(channels):\n",
    "            # Ensure no batchnorm bugs\n",
    "            if self.training != self.in_batchnorm.training:\n",
    "                self.in_batchnorm.training = self.training\n",
    "            if self.training != self.hidden_batchnorm.training:\n",
    "                self.hidden_batchnorm.training = self.training\n",
    "\n",
    "            # Deal with dimension cases\n",
    "            if inp.ndim == 2:\n",
    "                x = self.in_batchnorm(inp[t, :])\n",
    "            else:\n",
    "                x = self.in_batchnorm(inp[:, t, :])\n",
    "            # Cell update\n",
    "            hidden = self.hidden_batchnorm(hidden)\n",
    "            hidden, mem = self.cell(x, hidden, mem)\n",
    "        return hidden"
   ]
  },
  {
   "cell_type": "code",
   "execution_count": null,
   "id": "3d50f811",
   "metadata": {},
   "outputs": [],
   "source": [
    "class MLP(nn.Module):\n",
    "    def __init__(self, size: tuple, training=True):\n",
    "        super().__init__()\n",
    "        self.layers = nn.Sequential()\n",
    "        for l1, l2 in zip(size, size[1:]):\n",
    "            self.layers.append(nn.Linear(l1, l2))\n",
    "            self.layers.append(nn.Tanh())\n",
    "            self.layers.append(nn.Dropout(0.5))\n",
    "        self.layers.pop(-1)\n",
    "        self.training=training\n",
    "    \n",
    "    def forward(self, inp):\n",
    "        return self.layers.forward(inp)"
   ]
  },
  {
   "cell_type": "code",
   "execution_count": 11,
   "id": "c845091a",
   "metadata": {},
   "outputs": [],
   "source": [
    "class VFNN(nn.Module):\n",
    "    def __init__(self, hidden_size: int, inp_size: int, MLP_size: tuple, training=True):\n",
    "        super().__init__()\n",
    "        self.blocks = nn.Sequential()\n",
    "        emb = nn.Embedding(27, inp_size)\n",
    "        self.blocks.append(emb)\n",
    "        lstm = LSTM(in_size=inp_size, hidden_size=hidden_size)\n",
    "        self.blocks.append(lstm)\n",
    "        mlp = MLP(MLP_size)\n",
    "        self.blocks.append(mlp)\n",
    "        self.training = training\n",
    "    \n",
    "    def forward(self, inp: torch.Tensor) -> torch.Tensor:\n",
    "        logits = self.blocks.forward(inp)\n",
    "        return logits"
   ]
  },
  {
   "cell_type": "code",
   "execution_count": 12,
   "id": "1b40b41c",
   "metadata": {},
   "outputs": [],
   "source": [
    "def sgd(model: VFNN, xs: torch.Tensor, ys: torch.Tensor, lr: float = 0.1, batch_size: int = 30, steps: int = 1000):\n",
    "    \"\"\"\n",
    "    Perform stochastic gradient descent on model\n",
    "    \"\"\"\n",
    "    lossi = []\n",
    "    for step in range(steps):\n",
    "        idx = torch.randint(0, len(xs), (batch_size,))\n",
    "        x_batch, y_batch = xs[idx], ys[idx]\n",
    "\n",
    "        logits = model.forward(x_batch)\n",
    "        loss = nn.functional.cross_entropy(logits, y_batch)\n",
    "\n",
    "        l2_lambda = 1e-4\n",
    "        l2_penalty = torch.tensor(0.0)\n",
    "        for param in model.parameters():\n",
    "            param.grad = None\n",
    "            l2_penalty += (param * param).sum()\n",
    "\n",
    "        loss = loss + l2_lambda * l2_penalty\n",
    "\n",
    "        loss.backward()\n",
    "        lossi.append(loss.log10().item())\n",
    "        \n",
    "\n",
    "        for param in model.parameters():\n",
    "            param.grad = param.grad.clamp(-5, 5)\n",
    "            param.data += -lr * param.grad\n",
    "    \n",
    "        if step == steps // 2:\n",
    "            lr = lr * 0.1\n",
    "\n",
    "        if step % 100 == 0:\n",
    "            print(f\"Loss: {loss.item()} on step: {step + 1}\")\n",
    "    return lossi"
   ]
  },
  {
   "cell_type": "code",
   "execution_count": 13,
   "id": "28b03624",
   "metadata": {},
   "outputs": [],
   "source": [
    "model = VFNN(64, 32, (64, 128,  27))"
   ]
  },
  {
   "cell_type": "code",
   "execution_count": 32,
   "id": "a8f86dbb",
   "metadata": {},
   "outputs": [
    {
     "name": "stdout",
     "output_type": "stream",
     "text": [
      "Loss: 1.8696414232254028 on step: 1\n",
      "Loss: 2.0106723308563232 on step: 101\n",
      "Loss: 2.304224729537964 on step: 201\n",
      "Loss: 1.5995361804962158 on step: 301\n",
      "Loss: 2.2020530700683594 on step: 401\n",
      "Loss: 1.8467884063720703 on step: 501\n",
      "Loss: 2.3253800868988037 on step: 601\n",
      "Loss: 1.840749740600586 on step: 701\n",
      "Loss: 2.150315523147583 on step: 801\n",
      "Loss: 1.8765538930892944 on step: 901\n"
     ]
    },
    {
     "data": {
      "text/plain": [
       "[<matplotlib.lines.Line2D at 0x5f56c6850>]"
      ]
     },
     "execution_count": 32,
     "metadata": {},
     "output_type": "execute_result"
    },
    {
     "data": {
      "image/png": "[encoded data removed]",
      "text/plain": [
       "<Figure size 640x480 with 1 Axes>"
      ]
     },
     "metadata": {},
     "output_type": "display_data"
    }
   ],
   "source": [
    "model.train()\n",
    "lossi = sgd(model, xs_train, ys_train, lr=0.01, batch_size=60, steps=1000)\n",
    "from matplotlib import pyplot as plt\n",
    "plt.plot(torch.tensor(lossi).view(-1, 100).mean(1))"
   ]
  },
  {
   "cell_type": "code",
   "execution_count": 33,
   "id": "b88d5b95",
   "metadata": {},
   "outputs": [
    {
     "name": "stdout",
     "output_type": "stream",
     "text": [
      "2.4033620357513428\n"
     ]
    }
   ],
   "source": [
    "model.eval()\n",
    "logits = model.forward(xs_val)\n",
    "loss = nn.functional.cross_entropy(logits, ys_val)\n",
    "print(loss.item())"
   ]
  },
  {
   "cell_type": "code",
   "execution_count": 37,
   "id": "53313adc",
   "metadata": {},
   "outputs": [
    {
     "name": "stdout",
     "output_type": "stream",
     "text": [
      "Vansey\n",
      "Laylani\n",
      "Novel\n",
      "Dipe\n",
      "Rheale\n",
      "Nouirika\n",
      "Emmariela\n",
      "Azlah\n",
      "Andrie\n",
      "Elahmi\n"
     ]
    }
   ],
   "source": [
    "# Testing Output\n",
    "for k in range(10):\n",
    "    prev = [0] * block_size\n",
    "    \n",
    "    out = []\n",
    "    while True:\n",
    "        logits = model.forward(torch.tensor(prev))\n",
    "        counts = logits.exp()\n",
    "        probs = counts / counts.sum()\n",
    "\n",
    "        idx = torch.multinomial(probs, num_samples=1, replacement=True).item()\n",
    "        \n",
    "        if idx == 0:\n",
    "            break\n",
    "        out.append(itos[idx])\n",
    "        prev = prev[1:] + [idx]\n",
    "    print(''.join(out).capitalize())"
   ]
  }
 ],
 "metadata": {
  "kernelspec": {
   "display_name": ".venv",
   "language": "python",
   "name": "python3"
  },
  "language_info": {
   "codemirror_mode": {
    "name": "ipython",
    "version": 3
   },
   "file_extension": ".py",
   "mimetype": "text/x-python",
   "name": "python",
   "nbconvert_exporter": "python",
   "pygments_lexer": "ipython3",
   "version": "3.13.2"
  }
 },
 "nbformat": 4,
 "nbformat_minor": 5
}
