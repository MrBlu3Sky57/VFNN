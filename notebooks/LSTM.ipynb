{
 "cells": [
  {
   "cell_type": "code",
   "execution_count": null,
   "id": "752aa71f",
   "metadata": {},
   "outputs": [],
   "source": [
    "from net.parse import *\n",
    "from net import *"
   ]
  },
  {
   "cell_type": "code",
   "execution_count": 2,
   "id": "e8f7b69d",
   "metadata": {},
   "outputs": [],
   "source": [
    "DELTA = 3\n",
    "K = float('inf')\n",
    "CONTEXT = 10"
   ]
  },
  {
   "cell_type": "code",
   "execution_count": null,
   "id": "078f118e",
   "metadata": {},
   "outputs": [
    {
     "name": "stderr",
     "output_type": "stream",
     "text": [
      "/Users/tudor/CS-Work/ML/P3/VFNN/src/net/parse/finance_parser.py:7: FutureWarning: YF.download() has changed argument auto_adjust default to True\n",
      "  daily = yf.download(tickers='^SPX', start=start, end=end, interval='1d')\n",
      "[*********************100%***********************]  1 of 1 completed\n"
     ]
    },
    {
     "data": {
      "text/plain": [
       "torch.Size([3724, 10, 28])"
      ]
     },
     "execution_count": 5,
     "metadata": {},
     "output_type": "execute_result"
    }
   ],
   "source": [
    "# Build dataset\n",
    "trends = merge_on_date(parse_path(Path('../data/trends'))) # Parse trends data\n",
    "stats = get_data() # Parse stats data\n",
    "x_train, y_train, x_test, y_test, x_dev, y_dev = build_data(trends, stats, DELTA, K, CONTEXT)"
   ]
  },
  {
   "cell_type": "code",
   "execution_count": null,
   "id": "6ca572a4",
   "metadata": {},
   "outputs": [],
   "source": [
    "# Model Hyperparameters\n",
    "HIDDEN = 128\n",
    "INPUT_SIZE = 28 # Fixed\n",
    "MLP_SIZE = (128, 256, 1) # Has to end in 1\n",
    "BATCH_SIZE = 30\n",
    "STEPS = 10000\n",
    "LR = 0.1"
   ]
  },
  {
   "cell_type": "code",
   "execution_count": null,
   "id": "b102964a",
   "metadata": {},
   "outputs": [],
   "source": [
    "# Initialize\n",
    "model = VFNN(HIDDEN, INPUT_SIZE, MLP_SIZE)"
   ]
  },
  {
   "cell_type": "code",
   "execution_count": null,
   "id": "7e681b0d",
   "metadata": {},
   "outputs": [],
   "source": [
    "# Train\n",
    "model.train()\n",
    "lossi = sgd(model, MAPE, x_train, y_train, LR, BATCH_SIZE, STEPS)\n",
    "\n",
    "# Plot loss\n",
    "from matplotlib import pyplot as plt\n",
    "plt.plot(torch.tensor(lossi).view(-1, 100).mean(1))"
   ]
  },
  {
   "cell_type": "code",
   "execution_count": null,
   "id": "ecb27450",
   "metadata": {},
   "outputs": [],
   "source": [
    "model.eval()\n",
    "vals = model.forward(x_dev)\n",
    "loss = MAPE(vals, y_dev)\n",
    "print(loss.item())"
   ]
  }
 ],
 "metadata": {
  "kernelspec": {
   "display_name": ".venv",
   "language": "python",
   "name": "python3"
  },
  "language_info": {
   "codemirror_mode": {
    "name": "ipython",
    "version": 3
   },
   "file_extension": ".py",
   "mimetype": "text/x-python",
   "name": "python",
   "nbconvert_exporter": "python",
   "pygments_lexer": "ipython3",
   "version": "3.13.2"
  }
 },
 "nbformat": 4,
 "nbformat_minor": 5
}
