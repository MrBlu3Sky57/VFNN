{
 "cells": [
  {
   "cell_type": "code",
   "execution_count": 1,
   "id": "752aa71f",
   "metadata": {},
   "outputs": [],
   "source": [
    "from net.parse import *"
   ]
  },
  {
   "cell_type": "code",
   "execution_count": 2,
   "id": "e8f7b69d",
   "metadata": {},
   "outputs": [],
   "source": [
    "DELTA = 3\n",
    "K = float('inf')\n",
    "CONTEXT = 10"
   ]
  },
  {
   "cell_type": "code",
   "execution_count": 3,
   "id": "078f118e",
   "metadata": {},
   "outputs": [
    {
     "name": "stderr",
     "output_type": "stream",
     "text": [
      "/Users/tudor/CS-Work/ML/P3/VFNN/src/net/parse/finance_parser.py:7: FutureWarning: YF.download() has changed argument auto_adjust default to True\n",
      "  daily = yf.download(tickers='^SPX', start=start, end=end, interval='1d')\n",
      "[*********************100%***********************]  1 of 1 completed\n"
     ]
    }
   ],
   "source": [
    "# Build dataset\n",
    "trends = merge_on_date(parse_path(Path('../data/trends'))) # Parse trends data\n",
    "stats = get_data() # Parse stats data\n",
    "x_train, y_train, x_test, y_test, x_dev, y_dev = build_data(trends, stats, DELTA, K, CONTEXT)\n"
   ]
  }
 ],
 "metadata": {
  "kernelspec": {
   "display_name": ".venv",
   "language": "python",
   "name": "python3"
  },
  "language_info": {
   "codemirror_mode": {
    "name": "ipython",
    "version": 3
   },
   "file_extension": ".py",
   "mimetype": "text/x-python",
   "name": "python",
   "nbconvert_exporter": "python",
   "pygments_lexer": "ipython3",
   "version": "3.13.2"
  }
 },
 "nbformat": 4,
 "nbformat_minor": 5
}
